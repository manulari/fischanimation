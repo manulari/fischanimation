{
 "cells": [
  {
   "cell_type": "code",
   "execution_count": null,
   "id": "viral-softball",
   "metadata": {},
   "outputs": [],
   "source": [
    "import numpy as np\n",
    "from matplotlib import rc, pyplot as plt\n",
    "from matplotlib.animation import FuncAnimation\n",
    "from IPython.display import HTML\n",
    "\n",
    "plt.style.use('seaborn-pastel')\n",
    "rc('animation', html='html5')\n",
    "\n",
    "\n",
    "%matplotlib inline\n",
    "\n"
   ]
  },
  {
   "cell_type": "code",
   "execution_count": null,
   "id": "cheap-merchandise",
   "metadata": {},
   "outputs": [],
   "source": [
    "\n",
    "fig = plt.figure(figsize=(10,10))\n",
    "ax = plt.axes(xlim=(-1.5, 1.5), ylim=(-0.5, 2.5))\n",
    "line, = ax.plot([], [], lw=3)\n",
    "\n",
    "alphas = np.concatenate((np.linspace(0, 10, 100), np.linspace(10,0,100)))\n",
    "betas = np.concatenate((np.linspace(0, -20, 100), np.linspace(-20,0,100)))\n",
    "\n",
    "\n"
   ]
  },
  {
   "cell_type": "code",
   "execution_count": null,
   "id": "present-discharge",
   "metadata": {},
   "outputs": [],
   "source": [
    "def rot(vector, degrees=None, radians=None):\n",
    "    if(degrees):\n",
    "        radians = np.radians(degrees)\n",
    "    if(radians is None):\n",
    "        radians = 0\n",
    "    if(type(vector) == tuple):\n",
    "        vector = np.array(vector)\n",
    "    c = np.cos(radians)\n",
    "    s = np.sin(radians)\n",
    "    rotmat = np.array([[c, -s],[s,c]])\n",
    "    return np.matmul(rotmat, vector)\n",
    "\n",
    "def init():\n",
    "    line.set_data([], [])\n",
    "    return line,\n",
    "def animate(i):\n",
    "    p1 = np.array([0.,0.])\n",
    "    p2 = p1 + rot((0.,1.), alphas[i])\n",
    "    p3 = p2 + rot((0.,1.), betas[i])\n",
    "\n",
    "    ps = np.array([p1,p2,p3])\n",
    "    x = ps[:,0]\n",
    "    y = ps[:,1]\n",
    "    line.set_data(x,y)\n",
    "    return line,\n"
   ]
  },
  {
   "cell_type": "code",
   "execution_count": null,
   "id": "decreased-profession",
   "metadata": {},
   "outputs": [],
   "source": [
    "\n",
    "anim = FuncAnimation(fig, animate, init_func=init,\n",
    "                               frames=200, interval=20, blit=True)\n",
    "\n",
    "\n",
    "HTML(anim.to_jshtml())"
   ]
  },
  {
   "cell_type": "code",
   "execution_count": null,
   "id": "complicated-providence",
   "metadata": {},
   "outputs": [],
   "source": []
  },
  {
   "cell_type": "code",
   "execution_count": null,
   "id": "spanish-relief",
   "metadata": {},
   "outputs": [],
   "source": []
  },
  {
   "cell_type": "code",
   "execution_count": null,
   "id": "removed-strand",
   "metadata": {},
   "outputs": [],
   "source": []
  },
  {
   "cell_type": "code",
   "execution_count": null,
   "id": "documented-negotiation",
   "metadata": {},
   "outputs": [],
   "source": [
    "anim.save('sine_wave.gif', writer='imagemagick')"
   ]
  }
 ],
 "metadata": {
  "kernelspec": {
   "display_name": "Python 3",
   "language": "python",
   "name": "python3"
  },
  "language_info": {
   "codemirror_mode": {
    "name": "ipython",
    "version": 3
   },
   "file_extension": ".py",
   "mimetype": "text/x-python",
   "name": "python",
   "nbconvert_exporter": "python",
   "pygments_lexer": "ipython3",
   "version": "3.8.5"
  }
 },
 "nbformat": 4,
 "nbformat_minor": 5
}
